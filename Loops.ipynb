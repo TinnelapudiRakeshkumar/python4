{
  "nbformat": 4,
  "nbformat_minor": 0,
  "metadata": {
    "colab": {
      "name": "Loops",
      "provenance": [],
      "collapsed_sections": []
    },
    "kernelspec": {
      "name": "python3",
      "display_name": "Python 3"
    }
  },
  "cells": [
    {
      "cell_type": "code",
      "metadata": {
        "id": "sqpFkOQGTB_q",
        "colab_type": "code",
        "colab": {
          "base_uri": "https://localhost:8080/",
          "height": 34
        },
        "outputId": "0cb1b026-b88c-4015-ea98-5d30ef05294e"
      },
      "source": [
        "\n",
        "import math\n",
        "math.tan(90)"
      ],
      "execution_count": null,
      "outputs": [
        {
          "output_type": "execute_result",
          "data": {
            "text/plain": [
              "-1.995200412208242"
            ]
          },
          "metadata": {
            "tags": []
          },
          "execution_count": 2
        }
      ]
    },
    {
      "cell_type": "code",
      "metadata": {
        "id": "NKovcvWgJ5CA",
        "colab_type": "code",
        "colab": {
          "base_uri": "https://localhost:8080/",
          "height": 68
        },
        "outputId": "c6ff0015-121a-4bd5-c486-a3c95c00332c"
      },
      "source": [
        "#Python program to illustrate \n",
        "# while loop \n",
        "n = 0\n",
        "while (n < 3):     \n",
        "    n = n + 1\n",
        "    print(\"Hello Geek\")"
      ],
      "execution_count": null,
      "outputs": [
        {
          "output_type": "stream",
          "text": [
            "Hello Geek\n",
            "Hello Geek\n",
            "Hello Geek\n"
          ],
          "name": "stdout"
        }
      ]
    },
    {
      "cell_type": "code",
      "metadata": {
        "id": "VlxOGdwpTHmL",
        "colab_type": "code",
        "colab": {
          "base_uri": "https://localhost:8080/",
          "height": 85
        },
        "outputId": "8c3b8b61-e484-40ec-a159-23858a597916"
      },
      "source": [
        "#Python program to illustrate \n",
        "# combining else with while \n",
        "n = 0\n",
        "while (n < 3):     \n",
        "    n = n + 1\n",
        "    print(\"Hello Geek\") \n",
        "else: \n",
        "    print(\"In Else Block\")"
      ],
      "execution_count": null,
      "outputs": [
        {
          "output_type": "stream",
          "text": [
            "Hello Geek\n",
            "Hello Geek\n",
            "Hello Geek\n",
            "In Else Block\n"
          ],
          "name": "stdout"
        }
      ]
    },
    {
      "cell_type": "code",
      "metadata": {
        "id": "-fmKJA8Znhmf",
        "colab_type": "code",
        "colab": {
          "base_uri": "https://localhost:8080/",
          "height": 119
        },
        "outputId": "69546d03-f262-464c-8826-f11f53cb050c"
      },
      "source": [
        "sum=0\n",
        "\n",
        "while(True):\n",
        "  n=input(\"enter the value of n\")\n",
        "  if(n=='done'):\n",
        "    break\n",
        "  elif(int(n)<0):\n",
        "    continue\n",
        "  sum=sum+int(n)\n",
        "print(sum)"
      ],
      "execution_count": null,
      "outputs": [
        {
          "output_type": "stream",
          "text": [
            "enter the value of n7\n",
            "enter the value of n8\n",
            "enter the value of n-6\n",
            "enter the value of n1\n",
            "enter the value of ndone\n",
            "16\n"
          ],
          "name": "stdout"
        }
      ]
    },
    {
      "cell_type": "code",
      "metadata": {
        "id": "2IK_r8zdhQOs",
        "colab_type": "code",
        "colab": {
          "base_uri": "https://localhost:8080/",
          "height": 68
        },
        "outputId": "2935ad94-fb3d-4ff2-9d97-df947c00ec50"
      },
      "source": [
        "# Python Program to  \n",
        "# show range() basics  \n",
        "  \n",
        "# printing a number  \n",
        "for i in range(10):  \n",
        "    print(i, end =\" \")  \n",
        "print()  \n",
        "  \n",
        "# using range for iteration  \n",
        "l = [10, 20, 30, 40]  \n",
        "for i in range(len(l)):  \n",
        "    print(l[i], end =\" \")  \n",
        "print()  \n",
        "  \n",
        "# performing sum of natural  \n",
        "# number  \n",
        "sum = 0\n",
        "for i in range(1, 10):  \n",
        "    sum = sum + i  \n",
        "print(\"Sum of first 10 natural number :\", sum)  \n"
      ],
      "execution_count": null,
      "outputs": [
        {
          "output_type": "stream",
          "text": [
            "0 1 2 3 4 5 6 7 8 9 \n",
            "10 20 30 40 \n",
            "Sum of first 10 natural number : 45\n"
          ],
          "name": "stdout"
        }
      ]
    },
    {
      "cell_type": "code",
      "metadata": {
        "id": "UmHq4z3alW4r",
        "colab_type": "code",
        "colab": {
          "base_uri": "https://localhost:8080/",
          "height": 119
        },
        "outputId": "0a32484c-49d8-4b57-9630-2b20a01bba28"
      },
      "source": [
        "print(\"y values are:\") \n",
        "for y in range(15):\n",
        "  print(y,end=\" \")\n",
        "print(\"\\nz values are\")\n",
        "for z in range(2,10):\n",
        "  print(z,end=\" \")\n",
        "print(\"\\nx values are\")\n",
        "for x in range(2, 15, 3):\n",
        "  print(x,end=\" \")\n"
      ],
      "execution_count": null,
      "outputs": [
        {
          "output_type": "stream",
          "text": [
            "y values are:\n",
            "0 1 2 3 4 5 6 7 8 9 10 11 12 13 14 \n",
            "z values are\n",
            "2 3 4 5 6 7 8 9 \n",
            "x values are\n",
            "2 5 8 11 14 "
          ],
          "name": "stdout"
        }
      ]
    },
    {
      "cell_type": "code",
      "metadata": {
        "id": "adHWikEpg5tG",
        "colab_type": "code",
        "colab": {
          "base_uri": "https://localhost:8080/",
          "height": 68
        },
        "outputId": "0b066d47-5018-4b2a-cd78-687137ae872e"
      },
      "source": [
        "fruits = [\"apple\", \"banana\", \"cherry\"]\n",
        "for x in fruits:\n",
        "  print(x)\n"
      ],
      "execution_count": null,
      "outputs": [
        {
          "output_type": "stream",
          "text": [
            "apple\n",
            "banana\n",
            "cherry\n"
          ],
          "name": "stdout"
        }
      ]
    },
    {
      "cell_type": "code",
      "metadata": {
        "id": "hNn7tVluiDRd",
        "colab_type": "code",
        "colab": {
          "base_uri": "https://localhost:8080/",
          "height": 119
        },
        "outputId": "2d880107-6279-4a13-aa88-6683edc4bc99"
      },
      "source": [
        "for x in \"banana\":\n",
        "  print(x)\n"
      ],
      "execution_count": null,
      "outputs": [
        {
          "output_type": "stream",
          "text": [
            "b\n",
            "a\n",
            "n\n",
            "a\n",
            "n\n",
            "a\n"
          ],
          "name": "stdout"
        }
      ]
    },
    {
      "cell_type": "code",
      "metadata": {
        "id": "Y5vM9SKTiHSl",
        "colab_type": "code",
        "colab": {
          "base_uri": "https://localhost:8080/",
          "height": 51
        },
        "outputId": "4bf9b490-a836-482f-9840-10101846d3ff"
      },
      "source": [
        "fruits = [\"apple\", \"banana\", \"cherry\"]\n",
        "for x in fruits:\n",
        "  print(x)\n",
        "  if x == \"banana\":\n",
        "    break\n"
      ],
      "execution_count": null,
      "outputs": [
        {
          "output_type": "stream",
          "text": [
            "apple\n",
            "banana\n"
          ],
          "name": "stdout"
        }
      ]
    },
    {
      "cell_type": "code",
      "metadata": {
        "id": "UwwEd0sEj5fR",
        "colab_type": "code",
        "colab": {
          "base_uri": "https://localhost:8080/",
          "height": 51
        },
        "outputId": "c7252060-58c8-4afe-af90-49f86b98636a"
      },
      "source": [
        "#illustrating Continue Statement\n",
        "fruits = [\"apple\", \"banana\", \"cherry\"]\n",
        "for x in fruits:\n",
        "  if x == \"banana\":\n",
        "    continue\n",
        "  print(x)\n"
      ],
      "execution_count": null,
      "outputs": [
        {
          "output_type": "stream",
          "text": [
            "apple\n",
            "cherry\n"
          ],
          "name": "stdout"
        }
      ]
    },
    {
      "cell_type": "code",
      "metadata": {
        "id": "ll4KTgfGVs_r",
        "colab_type": "code",
        "colab": {
          "base_uri": "https://localhost:8080/",
          "height": 289
        },
        "outputId": "9974a695-b712-4d81-84ca-102f80b21ebf"
      },
      "source": [
        "# Python program to illustrate \n",
        "# Iterating over a list \n",
        "print(\"List Iteration\") \n",
        "l = [\"geeks\", \"for\", \"geeks\"] \n",
        "for i in l: \n",
        "    print(i) \n",
        "       \n",
        "# Iterating over a tuple (immutable) \n",
        "print(\"\\nTuple Iteration\") \n",
        "t = (\"geeks\", \"for\", \"geeks\") \n",
        "for i in t: \n",
        "    print(i) \n",
        "       \n",
        "# Iterating over a String \n",
        "print(\"\\nString Iteration\")     \n",
        "s = \"Geeks\"\n",
        "for i in s : \n",
        "    print(i) \n"
      ],
      "execution_count": null,
      "outputs": [
        {
          "output_type": "stream",
          "text": [
            "List Iteration\n",
            "geeks\n",
            "for\n",
            "geeks\n",
            "\n",
            "Tuple Iteration\n",
            "geeks\n",
            "for\n",
            "geeks\n",
            "\n",
            "String Iteration\n",
            "G\n",
            "e\n",
            "e\n",
            "k\n",
            "s\n"
          ],
          "name": "stdout"
        }
      ]
    },
    {
      "cell_type": "code",
      "metadata": {
        "id": "M0L_Q0hbWDAR",
        "colab_type": "code",
        "colab": {
          "base_uri": "https://localhost:8080/",
          "height": 85
        },
        "outputId": "d91fa8e5-6103-42ec-cc08-f1d2fe1db078"
      },
      "source": [
        "\n",
        "# Python program to illustrate \n",
        "# combining else with for \n",
        "  \n",
        "list = [\"geeks\", \"for\", \"geeks\"] \n",
        "for index in range(len(list)): \n",
        "    print(list[index])\n",
        "else: \n",
        "    print(\"Inside Else Block\")\n"
      ],
      "execution_count": null,
      "outputs": [
        {
          "output_type": "stream",
          "text": [
            "geeks\n",
            "for\n",
            "geeks\n",
            "Inside Else Block\n"
          ],
          "name": "stdout"
        }
      ]
    },
    {
      "cell_type": "code",
      "metadata": {
        "id": "sdIXWHXIdDNZ",
        "colab_type": "code",
        "colab": {
          "base_uri": "https://localhost:8080/",
          "height": 119
        },
        "outputId": "e1d12129-e9b3-422b-b2c4-eab21459fb33"
      },
      "source": [
        "# Python program to demonstrate \n",
        "# for-else loop \n",
        "  \n",
        "for i in range(1, 4):  \n",
        "    print(i)  \n",
        "else: # Executed because no break in for  \n",
        "    print(\"No Break\\n\")  \n",
        "  \n",
        "for i in range(1, 4):  \n",
        "    print(i)  \n",
        "    break\n",
        "else: # Not executed as there is a break  \n",
        "    print(\"No Break\")  \n"
      ],
      "execution_count": null,
      "outputs": [
        {
          "output_type": "stream",
          "text": [
            "1\n",
            "2\n",
            "3\n",
            "No Break\n",
            "\n",
            "1\n"
          ],
          "name": "stdout"
        }
      ]
    },
    {
      "cell_type": "code",
      "metadata": {
        "id": "dEsJOQVmeqpF",
        "colab_type": "code",
        "colab": {
          "base_uri": "https://localhost:8080/",
          "height": 170
        },
        "outputId": "def7439a-a99f-4ee1-f43e-ebd1af62fecc"
      },
      "source": [
        "#Nested Loops\n",
        "adj = [\"red\", \"big\", \"tasty\"]\n",
        "fruits = [\"apple\", \"banana\", \"cherry\"]\n",
        "\n",
        "for x in adj:\n",
        "  for y in fruits:\n",
        "    print(x, y)"
      ],
      "execution_count": null,
      "outputs": [
        {
          "output_type": "stream",
          "text": [
            "red apple\n",
            "red banana\n",
            "red cherry\n",
            "big apple\n",
            "big banana\n",
            "big cherry\n",
            "tasty apple\n",
            "tasty banana\n",
            "tasty cherry\n"
          ],
          "name": "stdout"
        }
      ]
    },
    {
      "cell_type": "code",
      "metadata": {
        "id": "EHzrz8h0gWRe",
        "colab_type": "code",
        "colab": {}
      },
      "source": [
        "#Pass statement\n",
        "for x in [0, 1, 2]:\n",
        "  pass\n"
      ],
      "execution_count": null,
      "outputs": []
    },
    {
      "cell_type": "code",
      "metadata": {
        "id": "n3wX81TsxCw5",
        "colab_type": "code",
        "colab": {
          "base_uri": "https://localhost:8080/",
          "height": 34
        },
        "outputId": "2868a440-d657-458f-f304-f3d27faef20e"
      },
      "source": [
        "count = 0\n",
        "for itervar in [3, 41, 12, 9, 74, 15]:\n",
        "  count = count + 1\n",
        "print('Count: ', count)"
      ],
      "execution_count": null,
      "outputs": [
        {
          "output_type": "stream",
          "text": [
            "Count:  6\n"
          ],
          "name": "stdout"
        }
      ]
    },
    {
      "cell_type": "code",
      "metadata": {
        "id": "MqfCvAu2yd-u",
        "colab_type": "code",
        "colab": {
          "base_uri": "https://localhost:8080/",
          "height": 34
        },
        "outputId": "ed171b86-ec98-4c87-f0bc-92854a39c5fa"
      },
      "source": [
        "total = 0\n",
        "for itervar in [3, 41, 12, 9, 74, 15]:\n",
        "  total = total + itervar\n",
        "print('Total: ', total)"
      ],
      "execution_count": null,
      "outputs": [
        {
          "output_type": "stream",
          "text": [
            "Total:  154\n"
          ],
          "name": "stdout"
        }
      ]
    },
    {
      "cell_type": "code",
      "metadata": {
        "id": "2PXve_XFy1yY",
        "colab_type": "code",
        "colab": {
          "base_uri": "https://localhost:8080/",
          "height": 153
        },
        "outputId": "2bfa8fcc-9133-4166-e9b4-eed69170c4fd"
      },
      "source": [
        "#To find the largest value in a list or sequence, we construct the following loop:\n",
        "largest = None\n",
        "print('Before:', largest)\n",
        "for itervar in [3, 41, 12, 9, 74, 15]:\n",
        "  if largest is None or itervar > largest :\n",
        "    largest = itervar\n",
        "  print('Loop:', itervar, largest)\n",
        "print('Largest:', largest)"
      ],
      "execution_count": null,
      "outputs": [
        {
          "output_type": "stream",
          "text": [
            "Before: None\n",
            "Loop: 3 3\n",
            "Loop: 41 41\n",
            "Loop: 12 41\n",
            "Loop: 9 41\n",
            "Loop: 74 74\n",
            "Loop: 15 74\n",
            "Largest: 74\n"
          ],
          "name": "stdout"
        }
      ]
    },
    {
      "cell_type": "code",
      "metadata": {
        "id": "pEcZji9R1FF1",
        "colab_type": "code",
        "colab": {
          "base_uri": "https://localhost:8080/",
          "height": 153
        },
        "outputId": "92c5ad6c-7321-4474-8531-df5c26cfb959"
      },
      "source": [
        "#To compute the smallest number, the code is very similar with one small change:\n",
        "smallest = None\n",
        "print('Before:', smallest)\n",
        "for itervar in [3, 41, 12, 9, 74, 15]:\n",
        "  if smallest is None or itervar < smallest:\n",
        "    smallest = itervar\n",
        "  print('Loop:', itervar, smallest)\n",
        "print('Smallest:', smallest)"
      ],
      "execution_count": null,
      "outputs": [
        {
          "output_type": "stream",
          "text": [
            "Before: None\n",
            "Loop: 3 3\n",
            "Loop: 41 3\n",
            "Loop: 12 3\n",
            "Loop: 9 3\n",
            "Loop: 74 3\n",
            "Loop: 15 3\n",
            "Smallest: 3\n"
          ],
          "name": "stdout"
        }
      ]
    },
    {
      "cell_type": "code",
      "metadata": {
        "id": "KAVNKJ7j3B7O",
        "colab_type": "code",
        "colab": {}
      },
      "source": [
        "#illustration using functions\n",
        "def smal(values):\n",
        "  smallest = None\n",
        "  for value in values:\n",
        "    if smallest is None or value < smallest:\n",
        "      smallest = value\n",
        "  return smallest"
      ],
      "execution_count": null,
      "outputs": []
    },
    {
      "cell_type": "code",
      "metadata": {
        "id": "hKkoO4H23skR",
        "colab_type": "code",
        "colab": {
          "base_uri": "https://localhost:8080/",
          "height": 34
        },
        "outputId": "238a9595-bdd1-495f-b653-bb449a26a49f"
      },
      "source": [
        "x=[3,41,12,9,74,15]\n",
        "smal(x)"
      ],
      "execution_count": null,
      "outputs": [
        {
          "output_type": "execute_result",
          "data": {
            "text/plain": [
              "3"
            ]
          },
          "metadata": {
            "tags": []
          },
          "execution_count": 53
        }
      ]
    },
    {
      "cell_type": "code",
      "metadata": {
        "id": "tSNK8ODq4KYJ",
        "colab_type": "code",
        "colab": {
          "base_uri": "https://localhost:8080/",
          "height": 34
        },
        "outputId": "7388816f-0ac7-456a-f260-3c7839949c65"
      },
      "source": [
        "t1=[1,5,3,7,32,78,89,54,2]\n",
        "print(\"Minimum value in list is\",min(t1))\n"
      ],
      "execution_count": null,
      "outputs": [
        {
          "output_type": "stream",
          "text": [
            "Minimum value in list is 1\n"
          ],
          "name": "stdout"
        }
      ]
    },
    {
      "cell_type": "code",
      "metadata": {
        "id": "_JbmAsaF5cWD",
        "colab_type": "code",
        "colab": {
          "base_uri": "https://localhost:8080/",
          "height": 68
        },
        "outputId": "31f9b5a3-94d5-45d9-aa0a-d75c6c45f698"
      },
      "source": [
        "#reverse of a number\n",
        "n=int(input(\"Enter a number to reverse\\n\"));\n",
        "  \n",
        "r=0\n",
        "while (n != 0):\n",
        "  r = r * 10\n",
        "  r = r + n%10\n",
        "  n = n//10\n",
        "print(\"reverse of given number is:\",r)\n"
      ],
      "execution_count": null,
      "outputs": [
        {
          "output_type": "stream",
          "text": [
            "Enter a number to reverse\n",
            "123\n",
            "reverse of given number is: 321\n"
          ],
          "name": "stdout"
        }
      ]
    },
    {
      "cell_type": "code",
      "metadata": {
        "id": "zvB55u336LvO",
        "colab_type": "code",
        "colab": {}
      },
      "source": [
        ""
      ],
      "execution_count": null,
      "outputs": []
    }
  ]
}